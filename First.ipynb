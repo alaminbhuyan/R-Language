{
 "cells": [
  {
   "cell_type": "code",
   "execution_count": 1,
   "metadata": {},
   "outputs": [
    {
     "name": "stdout",
     "output_type": "stream",
     "text": [
      "[1] \"hello world\"\n"
     ]
    }
   ],
   "source": [
    "print(\"hello world\")"
   ]
  },
  {
   "cell_type": "markdown",
   "metadata": {},
   "source": [
    "### comment"
   ]
  },
  {
   "cell_type": "code",
   "execution_count": 2,
   "metadata": {},
   "outputs": [],
   "source": [
    "# This is the comment"
   ]
  },
  {
   "cell_type": "markdown",
   "metadata": {},
   "source": [
    "## variable"
   ]
  },
  {
   "cell_type": "code",
   "execution_count": 6,
   "metadata": {},
   "outputs": [
    {
     "name": "stdout",
     "output_type": "stream",
     "text": [
      "[1] \"alamin\"\n",
      "[1] \"bhuyan\"\n"
     ]
    }
   ],
   "source": [
    "a = \"alamin\"\n",
    "b = \"bhuyan\"\n",
    "print(a)\n",
    "print(b)"
   ]
  },
  {
   "cell_type": "code",
   "execution_count": 7,
   "metadata": {},
   "outputs": [
    {
     "name": "stdout",
     "output_type": "stream",
     "text": [
      "[1] \"Tania Akter\"\n"
     ]
    }
   ],
   "source": [
    "# we can also assgin value in variable using \"<-\" symbole \n",
    "name <- \"Tania Akter\"\n",
    "print(name)"
   ]
  },
  {
   "cell_type": "code",
   "execution_count": 8,
   "metadata": {},
   "outputs": [
    {
     "data": {
      "text/html": [
       "<span style=white-space:pre-wrap>'R is  awesome'</span>"
      ],
      "text/latex": [
       "'R is  awesome'"
      ],
      "text/markdown": [
       "<span style=white-space:pre-wrap>'R is  awesome'</span>"
      ],
      "text/plain": [
       "[1] \"R is  awesome\""
      ]
     },
     "metadata": {},
     "output_type": "display_data"
    }
   ],
   "source": [
    "# You can also concatenate, or join, two or more elements, by using the paste() function.\n",
    "text = \"awesome\"\n",
    "paste(\"R is \",text)"
   ]
  },
  {
   "cell_type": "code",
   "execution_count": 9,
   "metadata": {},
   "outputs": [
    {
     "data": {
      "text/html": [
       "'alamin bhuyan'"
      ],
      "text/latex": [
       "'alamin bhuyan'"
      ],
      "text/markdown": [
       "'alamin bhuyan'"
      ],
      "text/plain": [
       "[1] \"alamin bhuyan\""
      ]
     },
     "metadata": {},
     "output_type": "display_data"
    }
   ],
   "source": [
    "paste(a,b)"
   ]
  },
  {
   "cell_type": "markdown",
   "metadata": {},
   "source": [
    "## Data types"
   ]
  },
  {
   "cell_type": "code",
   "execution_count": 15,
   "metadata": {},
   "outputs": [
    {
     "name": "stdout",
     "output_type": "stream",
     "text": [
      "[1] \"numeric\"\n",
      "[1] \"integer\"\n",
      "[1] \"complex\"\n",
      "[1] \"character\"\n",
      "[1] \"numeric\"\n",
      "[1] \"logical\"\n"
     ]
    }
   ],
   "source": [
    "num1 = 500\n",
    "num2 = 4L # 'L' means integer\n",
    "num3 = 4+3i\n",
    "num4 = \"This is string\"\n",
    "num5 = 4.555\n",
    "num6 = TRUE\n",
    "# to check the data types use class() method\n",
    "print(class(num1))\n",
    "print(class(num2))\n",
    "print(class(num3))\n",
    "print(class(num4))\n",
    "print(class(num5))\n",
    "print(class(num6))"
   ]
  },
  {
   "cell_type": "markdown",
   "metadata": {},
   "source": [
    "## Type convertion"
   ]
  },
  {
   "cell_type": "code",
   "execution_count": 21,
   "metadata": {},
   "outputs": [
    {
     "name": "stdout",
     "output_type": "stream",
     "text": [
      "[1] \"numeric\"\n",
      "[1] \"integer\"\n"
     ]
    },
    {
     "name": "stderr",
     "output_type": "stream",
     "text": [
      "Warning message in eval(expr, envir, enclos):\n",
      "\"imaginary parts discarded in coercion\"\n"
     ]
    },
    {
     "name": "stdout",
     "output_type": "stream",
     "text": [
      "[1] \"integer\"\n"
     ]
    }
   ],
   "source": [
    "a = 10L # integer\n",
    "b = 450.44 # numeric\n",
    "c = 4i # complex\n",
    "# convert from integer to numeric\n",
    "x = as.numeric(a)\n",
    "print(class(x))\n",
    "# covert from numeric to integer\n",
    "y = as.integer(b)\n",
    "print(class(y))\n",
    "# covert from complex to integer\n",
    "z = as.integer(c)\n",
    "print(class(z))"
   ]
  },
  {
   "cell_type": "markdown",
   "metadata": {},
   "source": [
    "## for loop"
   ]
  },
  {
   "cell_type": "code",
   "execution_count": 22,
   "metadata": {},
   "outputs": [
    {
     "name": "stdout",
     "output_type": "stream",
     "text": [
      "[1] 1\n",
      "[1] 2\n",
      "[1] 3\n",
      "[1] 4\n",
      "[1] 5\n",
      "[1] 6\n",
      "[1] 7\n",
      "[1] 8\n",
      "[1] 9\n",
      "[1] 10\n"
     ]
    }
   ],
   "source": [
    "for(x in 1:10)\n",
    "    print(x)"
   ]
  },
  {
   "cell_type": "code",
   "execution_count": 23,
   "metadata": {},
   "outputs": [
    {
     "name": "stdout",
     "output_type": "stream",
     "text": [
      "[1] \"apple\"\n",
      "[1] \"banana\"\n",
      "[1] \"orange\"\n",
      "[1] \"mango\"\n",
      "[1] \"potato\"\n"
     ]
    }
   ],
   "source": [
    "fruits = list(\"apple\",\"banana\",\"orange\",\"mango\",\"potato\")\n",
    "for(i in fruits)\n",
    "    print(i)"
   ]
  },
  {
   "cell_type": "code",
   "execution_count": 25,
   "metadata": {},
   "outputs": [
    {
     "name": "stdout",
     "output_type": "stream",
     "text": [
      "[1] \"apple\"\n",
      "[1] \"banana\"\n"
     ]
    }
   ],
   "source": [
    "# use 'break' statement inside for loop\n",
    "for(i in fruits){\n",
    "    if(i==\"orange\"){\n",
    "        break\n",
    "    }\n",
    "    print(i)\n",
    "}"
   ]
  },
  {
   "cell_type": "code",
   "execution_count": 26,
   "metadata": {},
   "outputs": [
    {
     "name": "stdout",
     "output_type": "stream",
     "text": [
      "[1] \"apple\"\n",
      "[1] \"banana\"\n",
      "[1] \"mango\"\n",
      "[1] \"potato\"\n"
     ]
    }
   ],
   "source": [
    "# use 'next' statement inside for loop\n",
    "for(i in fruits){\n",
    "    if(i==\"orange\"){\n",
    "        next\n",
    "    }\n",
    "    print(i)\n",
    "}"
   ]
  },
  {
   "cell_type": "code",
   "execution_count": 27,
   "metadata": {},
   "outputs": [
    {
     "name": "stdout",
     "output_type": "stream",
     "text": [
      "[1] \"The dice number is 1 Not Yahtzee\"\n",
      "[1] \"The dice number is 2 Not Yahtzee\"\n",
      "[1] \"The dice number is 3 Not Yahtzee\"\n",
      "[1] \"The dice number is 4 Not Yahtzee\"\n",
      "[1] \"The dice number is 5 Not Yahtzee\"\n",
      "[1] \"The dice number is 6 Yahtzee!\"\n"
     ]
    }
   ],
   "source": [
    "dice <- 1:6\n",
    "\n",
    "for(x in dice) {\n",
    "  if (x == 6) {\n",
    "    print(paste(\"The dice number is\", x, \"Yahtzee!\"))\n",
    "  } else {\n",
    "    print(paste(\"The dice number is\", x, \"Not Yahtzee\"))\n",
    "  }\n",
    "}"
   ]
  },
  {
   "cell_type": "code",
   "execution_count": 28,
   "metadata": {},
   "outputs": [
    {
     "name": "stdout",
     "output_type": "stream",
     "text": [
      "[1] \"red apple\"\n",
      "[1] \"red banana\"\n",
      "[1] \"red cherry\"\n",
      "[1] \"big apple\"\n",
      "[1] \"big banana\"\n",
      "[1] \"big cherry\"\n",
      "[1] \"tasty apple\"\n",
      "[1] \"tasty banana\"\n",
      "[1] \"tasty cherry\"\n"
     ]
    }
   ],
   "source": [
    "# nested for loop\n",
    "adj <- list(\"red\", \"big\", \"tasty\")\n",
    "\n",
    "fruits <- list(\"apple\", \"banana\", \"cherry\")\n",
    "  for (x in adj) {\n",
    "    for (y in fruits) {\n",
    "      print(paste(x, y))\n",
    "  }\n",
    "}"
   ]
  },
  {
   "cell_type": "code",
   "execution_count": null,
   "metadata": {},
   "outputs": [],
   "source": []
  }
 ],
 "metadata": {
  "kernelspec": {
   "display_name": "R",
   "language": "R",
   "name": "ir"
  },
  "language_info": {
   "codemirror_mode": "r",
   "file_extension": ".r",
   "mimetype": "text/x-r-source",
   "name": "R",
   "pygments_lexer": "r",
   "version": "4.0.3"
  }
 },
 "nbformat": 4,
 "nbformat_minor": 4
}
